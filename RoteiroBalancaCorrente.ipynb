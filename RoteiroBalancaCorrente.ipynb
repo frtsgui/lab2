{
 "cells": [
  {
   "cell_type": "markdown",
   "metadata": {},
   "source": [
    "# Roteiro Experimental para o experimento \"Balança de corrente\"\n",
    "\n",
    "Você deve responder as perguntas abaixo preenchendo as células com texto ( _Markdown_ ) quando solicitado a explicar alguma coisa e usar as células de codigo ( _Code_ ) quando for solicitado cálculos, valores, estimativas e gráficos. Quando usar células de código use o símbolo \"#\" para comentar o que foi feito sempre que julgar necessário.\n",
    "\n",
    "**Lembre-se de seguir o método de análise que lhe foi sorteado pelo professor!**"
   ]
  },
  {
   "cell_type": "markdown",
   "metadata": {},
   "source": [
    "## 0. Identificação\n",
    "\n",
    "### nome completo:\n",
    "\n",
    "### RA:\n",
    "\n",
    "### e-mail institucional:\n",
    "@aluno.ufabc.edu.br"
   ]
  },
  {
   "cell_type": "markdown",
   "metadata": {},
   "source": [
    "## 1. Objetivos do experimento\n",
    "\n",
    "Descreva na célula abaixo em um único parágrafo qual é o seu entendimento sobre os objetivos deste experimento (não se esqueça de acionar o modo _Markdown_ ):"
   ]
  },
  {
   "cell_type": "code",
   "execution_count": null,
   "metadata": {},
   "outputs": [],
   "source": []
  },
  {
   "cell_type": "markdown",
   "metadata": {},
   "source": [
    "## 2. Descreva sucintamente a física do experimento e os resultados esperados \n",
    "\n",
    "Use as fórmulas que julgar necessárias. Procure ser sucinto ($\\sim$2 parágrafos)."
   ]
  },
  {
   "cell_type": "code",
   "execution_count": null,
   "metadata": {},
   "outputs": [],
   "source": []
  },
  {
   "cell_type": "markdown",
   "metadata": {},
   "source": [
    "## 3. Descreva o arranjo experimental\n",
    "\n",
    "Liste os equipamentos e materiais usados no experimento, bem como a montagem dos diversos componentes."
   ]
  },
  {
   "cell_type": "code",
   "execution_count": null,
   "metadata": {},
   "outputs": [],
   "source": []
  },
  {
   "cell_type": "markdown",
   "metadata": {},
   "source": [
    "## 4. Descreva o procedimento experimental\n",
    "\n",
    "Como foram foram usados os equipamentos, quais parâmetros foram variados e de que forma, quais dados foram tomados e as tabelas de dados."
   ]
  },
  {
   "cell_type": "code",
   "execution_count": null,
   "metadata": {},
   "outputs": [],
   "source": []
  },
  {
   "cell_type": "markdown",
   "metadata": {},
   "source": [
    "## 5. Faça um gráfico dos dados \"brutos\"\n",
    "\n",
    "Por \"brutos\" entenda \"assim como foram anotados\". Neste experimento são esperados dois gráficos deste tipo. (Use _Code cell_ )"
   ]
  },
  {
   "cell_type": "code",
   "execution_count": null,
   "metadata": {},
   "outputs": [],
   "source": []
  },
  {
   "cell_type": "markdown",
   "metadata": {},
   "source": [
    "## 6. Faça a transferência de incertezas da _variável x_ para a _variável y_.\n",
    "\n",
    "Neste experimento há dois conjuntos de dados a serem analisados. Seguindo o _template_ de _notebook_ apresentado no _moodle_ responda na próxima célula ( _markdown_ ) se as incertezas da variável correspondente ao _eixo x_ precisam ser transferidas para a variável correspondente ao _eixo y_ em cada um dos conjuntos de dados. Justifique a sua resposta com argumentos _semi-quantitativos_. Se for necessária a transferência adicione as células ( _code_ ) necessárias à operação de transferência (lembrete: para adicionar uma célula nova clique em \"+\" no menu do _notebook_ e clique nas flechas se precisar reposicionar células) "
   ]
  },
  {
   "cell_type": "code",
   "execution_count": null,
   "metadata": {},
   "outputs": [],
   "source": []
  },
  {
   "cell_type": "markdown",
   "metadata": {},
   "source": [
    "## 7. Faça os ajustes de reta minimizando $\\chi^2_{red}$\n",
    "Faça o ajuste de retas usando as incertezas da variável correspondente ao _eixo y_ (após a transferência das incertezas em x). Imprima os resultados dos parâmetros ajustados no formato $a\\pm\\sigma_a$ com os algarismos significativos apropriados."
   ]
  },
  {
   "cell_type": "code",
   "execution_count": null,
   "metadata": {},
   "outputs": [],
   "source": []
  },
  {
   "cell_type": "markdown",
   "metadata": {},
   "source": [
    "## 8. Determine a qualidade dos ajustes\n",
    "\n",
    "Na próxima célula ( _code_ ) calule o $\\chi^2_{red}$ de ambos os ajustes. Na célula seguinte ( _code_ novamente) faça um gráfico de resíduos e na terceira célula a seguir ( _markdown_ ) discuta a qualidade do ajuste."
   ]
  },
  {
   "cell_type": "code",
   "execution_count": null,
   "metadata": {},
   "outputs": [],
   "source": [
    "#calcule o chi^2_red aqui\n"
   ]
  },
  {
   "cell_type": "code",
   "execution_count": null,
   "metadata": {},
   "outputs": [],
   "source": [
    "#faça o gráfico de resíduos aqui\n"
   ]
  },
  {
   "cell_type": "code",
   "execution_count": null,
   "metadata": {},
   "outputs": [],
   "source": []
  },
  {
   "cell_type": "markdown",
   "metadata": {},
   "source": [
    "## 9. Interprete os resultados dos ajustes\n",
    "\n",
    "Os ajustes lineares são do tipo $y = ax + b$. Qual é o significado físico dos parâmetros $a$ e $b$? Os valores dos parâmetros ajustados (consideradas as incertezas) são compatíveis com o esperado?"
   ]
  },
  {
   "cell_type": "code",
   "execution_count": null,
   "metadata": {},
   "outputs": [],
   "source": []
  },
  {
   "cell_type": "markdown",
   "metadata": {},
   "source": [
    "## 10. Obtenha valores experimentais a partir dos ajustes\n",
    "\n",
    "### 13.1. Calcule L (primeira versão)\n",
    "\n",
    "Do ajuste aos dados de variação de corrente (com campo fixo) obtenha o valor do comprimento do fio $L$ imerso no campo magnético e sua incerteza a partir do coeficiente angular do ajuste. Propague a incerteza vinda do ajuste.\n"
   ]
  },
  {
   "cell_type": "code",
   "execution_count": null,
   "metadata": {},
   "outputs": [],
   "source": []
  },
  {
   "cell_type": "markdown",
   "metadata": {},
   "source": [
    "### 13.2. Calcule L (segunda versão)\n",
    "\n",
    "Do ajuste aos dados de variação de campo magnético (com corrente fixa) obtenha o valor do comprimento do fio $L$ imerso no campo magnético e sua incerteza a partir do coeficiente angular do ajuste. Propague a incerteza vinda do ajuste.\n"
   ]
  },
  {
   "cell_type": "code",
   "execution_count": null,
   "metadata": {},
   "outputs": [],
   "source": []
  },
  {
   "cell_type": "markdown",
   "metadata": {},
   "source": [
    "### 13.3. Compare os resultados\n",
    "\n",
    "Compare os resultados de 13.1 e 13.2 e à luz das incerteza argumente se são compatíveis entre si e compatíveis com o valor de $L$ medido diretamente no arranjo experimental."
   ]
  },
  {
   "cell_type": "code",
   "execution_count": null,
   "metadata": {},
   "outputs": [],
   "source": []
  }
 ],
 "metadata": {
  "kernelspec": {
   "display_name": "Python 3",
   "language": "python",
   "name": "python3"
  },
  "language_info": {
   "codemirror_mode": {
    "name": "ipython",
    "version": 3
   },
   "file_extension": ".py",
   "mimetype": "text/x-python",
   "name": "python",
   "nbconvert_exporter": "python",
   "pygments_lexer": "ipython3",
   "version": "3.7.0"
  }
 },
 "nbformat": 4,
 "nbformat_minor": 2
}
