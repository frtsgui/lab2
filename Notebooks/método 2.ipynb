{
 "cells": [
  {
   "cell_type": "markdown",
   "metadata": {},
   "source": [
    "# Usando o Jupyter Notebook para análise de dados (método II)\n",
    "\n",
    "O propósito desse _notebook_ é apresentar as principais funções e ferramentas que podem ser usadas para realizar a análise de dados experimentais deste curso. Para isso será necessário um conhecimento mínimo de Python (versão 3). Esse documento foi produzido e testado usando um _kernel_ de Python 3, então use-o da mesma maneira, pois não há garantia alguma de que as funções e ferramentas apresentadas aqui funcionem em uma versão anterior de Python.\n",
    "\n",
    "Sempre que possível será apresentada a sintaxe de python a ser utilizada com um exemplo executável. A seqüência apresentada neste _notebook_ será denominada de **método II**."
   ]
  },
  {
   "cell_type": "markdown",
   "metadata": {},
   "source": [
    "## Por que Python?\n",
    "\n",
    "Se você já domina python ou pelo menos já fez qualquer coisa nesta linguagem além de um _hello world_, pode pular esta seção.\n",
    "\n",
    "Python 3 é uma linguagem de programação de alto nível. Ela tem sido usada de maneira crescente na _indústria_ da ciência de dados em atividades como _machine learning_ e _neural networks_. Na comunidade de física de altas energias a utilização de Python para a análise de dados também tem crescido significativa e continuamente. Portanto, para próxima década, dominar o uso de python pode deixar de ser uma vantagem para se tornar uma necessidade.\n",
    "\n",
    "Existem inúmeros cursos gratuitos de python (coursera, IBM, etc). Aponto uma pequena coleção deste cursos [aqui](https://itmidia.com/5-cursos-gratuitos-para-quem-quer-comecar-a-programar-em-python/). Sugiro ainda que se use o [tutorial da w3schools](https://www.w3schools.com/python/default.asp), pois além de existir um acesso rápido a vários elementos da sintaxe da linguagem, ele tem alguns exercícios _online_ simplificados que podem ajudar nos primeiros passos"
   ]
  },
  {
   "cell_type": "markdown",
   "metadata": {},
   "source": [
    "## Primeiro passo: carregando módulos do Python 3\n",
    "\n",
    "Neste ponto você já sabe do _minimum minimorum_ de python para saber que ele tem seu desempenho melhorado significativamente com o uso dos módulos (_modules_) que nada mais são do que bibliotecas desenvolvidas pela comunidade de usuários e desenvolvedores do python. Eles tem em geral propósitos específicos para facilitar a resolução de classes de problemas bem definidos.\n",
    "Alguns dos módulos que usaremos são o [pandas](https://pandas.pydata.org/), [numpy](https://numpy.org/), [matplotlib](https://matplotlib.org/), [scipy](https://www.scipy.org/), [sklearn](https://scikit-learn.org/stable/) e [sympy](https://www.sympy.org/en/index.html). \n",
    "\n",
    "A importação de módulos não é como acontece com a importação de _header files_ em programas em C/C++, que precisam ser declaradas logo no início do programa. No caso do python pode-se importar o módulo apenas no ponto do programa a partir do qual precisaremos dele. Então aqui iremos importar alguns que serão frequentemente usados."
   ]
  },
  {
   "cell_type": "code",
   "execution_count": 1,
   "metadata": {},
   "outputs": [],
   "source": [
    "import pandas as pd\n",
    "import numpy as np\n",
    "from scipy.optimize import curve_fit\n",
    "import matplotlib\n",
    "from matplotlib import pyplot as plt\n",
    "%matplotlib inline "
   ]
  },
  {
   "cell_type": "markdown",
   "metadata": {},
   "source": [
    "## Segundo passo: introduzindo os dados experimentais\n",
    "\n",
    "Poderíamos em princípio colocar os dados num arquivo .csv e importá-lo usando pandas. Mas como em geral os conjuntos de dados dos experimentos deste curso são pequenos (tipicamente menos de 10 linhas), seria uma nova potencial fonte de erro no processo de análise e o ganho não chegaria a compensar o risco.\n",
    "\n",
    "Comecemos com um exemplo onde temos um conjunto de dados que foi obtido de um experimento da _Lei de Boyle-Mariotte_ e colocados na tabela abaixo. Esses são dados reais retirados da disciplina de Fenômenos Térmicos e representam a pressão manométrica (${\\rm P}_m$) e o volume (V) de um gás (ar) num cilindro com suas respectivas incertezas. Para mais informações veja a **referência 1**.\n",
    "\n",
    "${\\rm P}_m$ (kgf/cm$^2$)|\t$\\sigma_{{\\rm P}_m}$ (kgf/cm$^2$)\t| V (cm$^3$)\t| $\\sigma_{\\rm V}$ (cm$^3$)\n",
    ":-:|:-:|:-:|:-:\n",
    "0.0 | 0.01\t| 13.00\t| 0.05\n",
    "0.1\t| 0.01\t| 12.10 | 0.05\n",
    "0.2\t| 0.01\t| 11.10\t| 0.05\n",
    "0.3\t| 0.01\t| 10.10\t| 0.05\n",
    "0.4\t| 0.01\t| 9.40\t| 0.05\n",
    "0.5\t| 0.01\t| 8.60\t| 0.05\n",
    "0.6\t| 0.01\t| 8.10\t| 0.05\n",
    "0.7\t| 0.01\t| 7.50\t| 0.05\n",
    "0.8\t| 0.01\t| 7.10\t| 0.05\n",
    "\n",
    "Uma possibilidade de se fazer isso é usando listas (_list_), dicionários (_dict_) e por fim _pandas dataframe_. Lembrando que a sintaxe para listas é dado, por exemplo, para N valores _float_:\n",
    "\n",
    "lista1 = \\[num1, num2,...,numN\\] \n",
    "\n",
    "E um dicionário com _M_ chaves pode ser criado como \n",
    "\n",
    "my_dict = \\{'chave1' : valor1, 'chave2' : valor2,..., 'chaveM' : valorM \\}\n",
    "\n",
    "onde os tipos de variáveis das diferentes chaves e valores podem ser quaisquer (_int, float,string_) e inclusive _list_. \n",
    "\n",
    "Assim criamos uma lista (_list_ ) para cada coluna de dados, por exemplo:\n",
    "x = \\[2.7, 4.9, 6.6, 8.8, 10.9,13.0\\]\n",
    "Neste **método II** usaremos _dataframes_ **pandas** e **scipy**.\n"
   ]
  },
  {
   "cell_type": "code",
   "execution_count": 2,
   "metadata": {},
   "outputs": [],
   "source": [
    "x = [13.0,12.1,11.1,10.1,9.4,8.6,8.1,7.5,7.1]\n",
    "y = [0.0,0.1,0.2,0.3,0.4,0.5,0.6,0.7,0.8]\n",
    "incy = [0.01,0.01,0.01,0.01,0.02,0.02,0.02,0.02,0.02]\n",
    "incx = [0.05,0.07,0.05,0.05,0.07,0.08,0.06,0.09,0.09]"
   ]
  },
  {
   "cell_type": "markdown",
   "metadata": {},
   "source": [
    "Agora criamos um dicionário onde os títulos das colunas será a chave (em formato texto ou _string_) e os valores serão as respectivas listas:"
   ]
  },
  {
   "cell_type": "code",
   "execution_count": 3,
   "metadata": {},
   "outputs": [
    {
     "data": {
      "text/plain": [
       "{'V(cm3)': [13.0, 12.1, 11.1, 10.1, 9.4, 8.6, 8.1, 7.5, 7.1],\n",
       " 'P_m(kgf/cm2)': [0.0, 0.1, 0.2, 0.3, 0.4, 0.5, 0.6, 0.7, 0.8],\n",
       " 'inc-x(cm3)': [0.05, 0.07, 0.05, 0.05, 0.07, 0.08, 0.06, 0.09, 0.09],\n",
       " 'inc-y(kgf/cm2)': [0.01, 0.01, 0.01, 0.01, 0.02, 0.02, 0.02, 0.02, 0.02]}"
      ]
     },
     "execution_count": 3,
     "metadata": {},
     "output_type": "execute_result"
    }
   ],
   "source": [
    "dados = {'V(cm3)' : x, 'P_m(kgf/cm2)' : y, 'inc-x(cm3)': incx, 'inc-y(kgf/cm2)': incy}\n",
    "dados"
   ]
  },
  {
   "cell_type": "markdown",
   "metadata": {},
   "source": [
    "Por fim alimentamos o dicionário como um _dataframe_ do _pandas_ :"
   ]
  },
  {
   "cell_type": "code",
   "execution_count": 4,
   "metadata": {},
   "outputs": [
    {
     "name": "stdout",
     "output_type": "stream",
     "text": [
      "<class 'pandas.core.frame.DataFrame'>\n"
     ]
    },
    {
     "data": {
      "text/html": [
       "<div>\n",
       "<style scoped>\n",
       "    .dataframe tbody tr th:only-of-type {\n",
       "        vertical-align: middle;\n",
       "    }\n",
       "\n",
       "    .dataframe tbody tr th {\n",
       "        vertical-align: top;\n",
       "    }\n",
       "\n",
       "    .dataframe thead th {\n",
       "        text-align: right;\n",
       "    }\n",
       "</style>\n",
       "<table border=\"1\" class=\"dataframe\">\n",
       "  <thead>\n",
       "    <tr style=\"text-align: right;\">\n",
       "      <th></th>\n",
       "      <th>V(cm3)</th>\n",
       "      <th>P_m(kgf/cm2)</th>\n",
       "      <th>inc-x(cm3)</th>\n",
       "      <th>inc-y(kgf/cm2)</th>\n",
       "    </tr>\n",
       "  </thead>\n",
       "  <tbody>\n",
       "    <tr>\n",
       "      <th>0</th>\n",
       "      <td>13.0</td>\n",
       "      <td>0.0</td>\n",
       "      <td>0.05</td>\n",
       "      <td>0.01</td>\n",
       "    </tr>\n",
       "    <tr>\n",
       "      <th>1</th>\n",
       "      <td>12.1</td>\n",
       "      <td>0.1</td>\n",
       "      <td>0.07</td>\n",
       "      <td>0.01</td>\n",
       "    </tr>\n",
       "    <tr>\n",
       "      <th>2</th>\n",
       "      <td>11.1</td>\n",
       "      <td>0.2</td>\n",
       "      <td>0.05</td>\n",
       "      <td>0.01</td>\n",
       "    </tr>\n",
       "    <tr>\n",
       "      <th>3</th>\n",
       "      <td>10.1</td>\n",
       "      <td>0.3</td>\n",
       "      <td>0.05</td>\n",
       "      <td>0.01</td>\n",
       "    </tr>\n",
       "    <tr>\n",
       "      <th>4</th>\n",
       "      <td>9.4</td>\n",
       "      <td>0.4</td>\n",
       "      <td>0.07</td>\n",
       "      <td>0.02</td>\n",
       "    </tr>\n",
       "    <tr>\n",
       "      <th>5</th>\n",
       "      <td>8.6</td>\n",
       "      <td>0.5</td>\n",
       "      <td>0.08</td>\n",
       "      <td>0.02</td>\n",
       "    </tr>\n",
       "    <tr>\n",
       "      <th>6</th>\n",
       "      <td>8.1</td>\n",
       "      <td>0.6</td>\n",
       "      <td>0.06</td>\n",
       "      <td>0.02</td>\n",
       "    </tr>\n",
       "    <tr>\n",
       "      <th>7</th>\n",
       "      <td>7.5</td>\n",
       "      <td>0.7</td>\n",
       "      <td>0.09</td>\n",
       "      <td>0.02</td>\n",
       "    </tr>\n",
       "    <tr>\n",
       "      <th>8</th>\n",
       "      <td>7.1</td>\n",
       "      <td>0.8</td>\n",
       "      <td>0.09</td>\n",
       "      <td>0.02</td>\n",
       "    </tr>\n",
       "  </tbody>\n",
       "</table>\n",
       "</div>"
      ],
      "text/plain": [
       "   V(cm3)  P_m(kgf/cm2)  inc-x(cm3)  inc-y(kgf/cm2)\n",
       "0    13.0           0.0        0.05            0.01\n",
       "1    12.1           0.1        0.07            0.01\n",
       "2    11.1           0.2        0.05            0.01\n",
       "3    10.1           0.3        0.05            0.01\n",
       "4     9.4           0.4        0.07            0.02\n",
       "5     8.6           0.5        0.08            0.02\n",
       "6     8.1           0.6        0.06            0.02\n",
       "7     7.5           0.7        0.09            0.02\n",
       "8     7.1           0.8        0.09            0.02"
      ]
     },
     "execution_count": 4,
     "metadata": {},
     "output_type": "execute_result"
    }
   ],
   "source": [
    "# Convert the dictionary into DataFrame \n",
    "df = pd.DataFrame(dados)\n",
    "print(type(df))\n",
    "df"
   ]
  },
  {
   "cell_type": "markdown",
   "metadata": {},
   "source": [
    "Podemos inicialmente colocar os dados num gráfico para fazer uma primeira visualização exploratória. Para isso usamos o _pyplot_ do _matplotlib_ para graficar os pontos com suas respectivas barras de erro."
   ]
  },
  {
   "cell_type": "code",
   "execution_count": 5,
   "metadata": {},
   "outputs": [
    {
     "data": {
      "image/png": "[encoded data removed]",
      "text/plain": [
       "<Figure size 432x288 with 1 Axes>"
      ]
     },
     "metadata": {
      "needs_background": "light"
     },
     "output_type": "display_data"
    }
   ],
   "source": [
    "# visualizando os dados pelo gráfico\n",
    "\n",
    "plt.figure() \n",
    "#plt.errorbar(x, y, incy, incx,'og')\n",
    "#atenção aqui: a ordem é x, y, incerteza de Y, incerteza de X\n",
    "plt.errorbar(df['V(cm3)'], df['P_m(kgf/cm2)'], df['inc-x(cm3)'], df['inc-y(kgf/cm2)'],'og')\n",
    "plt.title(\"Visualização dos dados\")\n",
    "#incluindo título diretamente do nome da coluna da tabela\n",
    "plt.xlabel(df['V(cm3)'].name)\n",
    "#incluindo o nome à mão\n",
    "plt.ylabel(\"nome var y (u.a.)\")\n",
    "plt.show()\n"
   ]
  },
  {
   "cell_type": "markdown",
   "metadata": {},
   "source": [
    "Podemos observar que a relação não é linear. Para se fazer um ajuste pelo método dos mínimos quadrados (MMQ) devemos conhecer - ou ao menos modelar - a dependência de y em relação a x (por exemplo, campo elétrico em função da distância). De posse dessa forma funcional é possível aplicar uma linearização aos dados e então sobre o resultado da linearização é possível se fazer um ajuste linear usando MMQ."
   ]
  },
  {
   "cell_type": "markdown",
   "metadata": {},
   "source": [
    "## Linearização dos dados\n",
    "\n",
    "No caso do exemplo os dados foram obtidos de um experimento da disciplina de Fenômenos Térmicos. O experimento era sobre a lei de Boyle ($P=\\frac{const.}{V}$, portanto nosso modelo se assemlha a:\n",
    "$$ y=\\frac{a}{x} + b $$\n",
    "Assim, para linearizarmos os dados precisamos criar uma nova variável que armazene o inverso dos valores medidos de x:\n",
    "$$ z = \\frac{1}{V} $$\n",
    "Assim, nosso dados se transforma na seguinte forma funcional:\n",
    "$$ y=az+b $$\n",
    "O que é uma equação de reta. Assim feito podemos realizar o ajuste linear.\n",
    "Para proceder a linearização em python é bastante simples. Para isso usamos a função _power_ do **numpy** como colocado a seguir."
   ]
  },
  {
   "cell_type": "code",
   "execution_count": 6,
   "metadata": {},
   "outputs": [
    {
     "data": {
      "text/plain": [
       "0    0.076923\n",
       "1    0.082645\n",
       "2    0.090090\n",
       "3    0.099010\n",
       "4    0.106383\n",
       "5    0.116279\n",
       "6    0.123457\n",
       "7    0.133333\n",
       "8    0.140845\n",
       "Name: V(cm3), dtype: float64"
      ]
     },
     "execution_count": 6,
     "metadata": {},
     "output_type": "execute_result"
    }
   ],
   "source": [
    "#linearizando a sequência de valores de x usando numpy\n",
    "z = np.power(df['V(cm3)'],-1)\n",
    "z"
   ]
  },
  {
   "cell_type": "markdown",
   "metadata": {},
   "source": [
    "### Propagação das incertezas na linearização\n",
    "\n",
    "Para a propagação das incertezas numa operação de linearização de maneira geral não basta apenas aplicar a mesma operação aos valores de incerteza da grandeza original para se obter os valores de incerteza para a nova variável. Neste caso precisamos sempre utilizar a propagação\n",
    "$$ \\sigma_z = \\frac{\\partial z}{\\partial x}\\sigma_x $$\n",
    "Como no nosso caso $ z = 1/x $ então a propagação fica\n",
    "$$ \\sigma_z = \\frac{1}{x^2}\\sigma_x $$\n",
    "\n",
    "De fato, os valores de incerteza tem que ser calculados para cada ponto. Em termos computacionais seria ótimo se pudéssemos simplesmente fazer:\n",
    "$\\sigma_z = \\frac{1}{x^2}\\sigma_x$\n",
    "Felizmente os _dataframes_ do **pandas** nos permitem fazer isso de maneira trivial da seguinte forma:"
   ]
  },
  {
   "cell_type": "code",
   "execution_count": 7,
   "metadata": {},
   "outputs": [
    {
     "data": {
      "text/plain": [
       "0    0.000296\n",
       "1    0.000478\n",
       "2    0.000406\n",
       "3    0.000490\n",
       "4    0.000792\n",
       "5    0.001082\n",
       "6    0.000914\n",
       "7    0.001600\n",
       "8    0.001785\n",
       "dtype: float64"
      ]
     },
     "execution_count": 7,
     "metadata": {},
     "output_type": "execute_result"
    }
   ],
   "source": [
    "#propagando a incerteza por conta da linearização\n",
    "sigma_z = df['inc-x(cm3)']*np.power(df['V(cm3)'],-2)\n",
    "sigma_z"
   ]
  },
  {
   "cell_type": "markdown",
   "metadata": {},
   "source": [
    "## Visualizando a linearização\n",
    "\n",
    "Em seguida podemos fazer a visualização dos dados após a linearização refazendo o gráfico com a variável z no lugar de x:"
   ]
  },
  {
   "cell_type": "code",
   "execution_count": 8,
   "metadata": {
    "scrolled": true
   },
   "outputs": [
    {
     "data": {
      "image/png": "[encoded data removed]",
      "text/plain": [
       "<Figure size 432x288 with 1 Axes>"
      ]
     },
     "metadata": {
      "needs_background": "light"
     },
     "output_type": "display_data"
    }
   ],
   "source": [
    "# visualizando os dados linearizados\n",
    "plt.errorbar(z, df['P_m(kgf/cm2)'], df['inc-y(kgf/cm2)'],sigma_z,'o')\n",
    "plt.title(\"Dados linearizados\")\n",
    "plt.xlabel(\"nome var z (z=1/V, u.a.)\")\n",
    "plt.ylabel(\"nome var y (u.a.)\")\n",
    "plt.show()"
   ]
  },
  {
   "cell_type": "markdown",
   "metadata": {},
   "source": [
    "## MMQ com $ \\chi^2 $\n",
    "\n",
    "Em um ajuste por regressão linear no modo mais simples não se utilizam incertezas associadas aos pontos e também não se obtém as incertezas nos parâmetros ajustados (ou matriz covariância). Além disso utiliza-se como medida da qualidade de ajuste a variável $ R^2 $, que na verdade é uma estimativa de quanto dos dados pode ser descrito pelo modelo/função ajustado(a). Ela é também o quadrado da correlação de Pearson. Em geral se diz que quanto mais próximo de 1 é  $ R^2 $ melhor é o ajuste, mas se for realizado o cálculo de $ R^2 $ para um ajuste a uma grandeza constante o valor será muito próximo de zero, mesmo que se tenha um ajuste bastante verossímil.\n",
    "Para se obter um ajuste de MMQ que tenha significado probabilístico - ou seja tenha um resultado de $ \\chi^2 $ associado - é preciso que se informe ao método de ajuste as incertezas dos pontos experimentais. No caso do ajuste por MMQ somente as incertezas na variável dependente (y) é que são aceitas, portanto se as incertezas em x não são desprezíveis é preciso propagá-las para y. Para uma explicação detalhada do procedimento, verifique a **referência 1**. \n",
    "\n",
    "Para essa propagação completa é preciso fazer:\n",
    "$$ (\\sigma_y)^2= (\\sigma_{y_0})^2 + \\left(\\frac{dy}{dx}\\sigma_x \\right)^2$$\n",
    "onde $\\sigma_{y_0}$ corresponde à incerteza original de y (aquela que vem da própria medida) e $\\frac{dy}{dx}$ pode ser aproximado pelo coeficiente angular de um ajuste linear aos dados. Neste exemplo, $\\sigma_x$ é a variável sigma_z.\n",
    "Para o coeficiente angular podemos realizar uma regressão linear simples (RLS) aos dados e usar com excelente precisão o valor do parâmetro correspondente obtido da RLS, sem se preocupar neste momento com a qualidade do ajuste."
   ]
  },
  {
   "cell_type": "markdown",
   "metadata": {},
   "source": [
    "Para fazer o ajuste com o _curve\\_fit_ do **scipy** precisamos inicialmente definir o tipo funcional (modelo) como uma função de Python. Não chega a ser complicado, mas o ideal é ter pelo menos uma vez na vida visto como se declara uma função em Python. Mesmo assim, é possível apenas copiar o que está na próxima célula:"
   ]
  },
  {
   "cell_type": "code",
   "execution_count": 9,
   "metadata": {},
   "outputs": [],
   "source": [
    "#criando a função 'linear'\n",
    "def linear(x, a, b):\n",
    "    return a * x + b"
   ]
  },
  {
   "cell_type": "markdown",
   "metadata": {},
   "source": [
    "E agora realizamos o fit. Primeiro precisamos criar uma _numpy array_ para os dados de $y$ porque o _curve\\_fit_ tem problemas para interpretar o formato _dataframe_ :"
   ]
  },
  {
   "cell_type": "code",
   "execution_count": 10,
   "metadata": {},
   "outputs": [
    {
     "data": {
      "text/plain": [
       "array([12.17255662, -0.91053118])"
      ]
     },
     "execution_count": 10,
     "metadata": {},
     "output_type": "execute_result"
    }
   ],
   "source": [
    "#criando numpy array para y \n",
    "yarray = np.array(df['P_m(kgf/cm2)'])\n",
    "#ajustando a reta (RLS) para obter uma estimativa boa de dy/dx\n",
    "f_de_z, cov_pars = curve_fit(linear, z, yarray)\n",
    "#f_de_z: parâmetros do ajuste (ang., lin.); cov_pars: (matriz de cov)^(-1)\n",
    "f_de_z"
   ]
  },
  {
   "cell_type": "markdown",
   "metadata": {},
   "source": [
    "Para esse ajuste o coeficiente angular é o primeiro parâmetro do vetor f_de_z com o valor:"
   ]
  },
  {
   "cell_type": "code",
   "execution_count": 11,
   "metadata": {},
   "outputs": [
    {
     "name": "stdout",
     "output_type": "stream",
     "text": [
      "coeficiente angular:  12.172556619533779\n"
     ]
    }
   ],
   "source": [
    "print(\"coeficiente angular: \", f_de_z[0])"
   ]
  },
  {
   "cell_type": "markdown",
   "metadata": {},
   "source": [
    "Com o coeficiente angular ($dy/dx$) pode-se então fazer a transferência de incertezas para o y:"
   ]
  },
  {
   "cell_type": "code",
   "execution_count": 12,
   "metadata": {},
   "outputs": [
    {
     "name": "stdout",
     "output_type": "stream",
     "text": [
      "incertezas em y (originais):  0    0.01\n",
      "1    0.01\n",
      "2    0.01\n",
      "3    0.01\n",
      "4    0.02\n",
      "5    0.02\n",
      "6    0.02\n",
      "7    0.02\n",
      "8    0.02\n",
      "Name: inc-y(kgf/cm2), dtype: float64\n",
      "incertezas em y (novos val.): 0    0.010629\n",
      "1    0.011570\n",
      "2    0.011154\n",
      "3    0.011645\n",
      "4    0.022203\n",
      "5    0.023945\n",
      "6    0.022889\n",
      "7    0.027916\n",
      "8    0.029535\n",
      "dtype: float64\n"
     ]
    },
    {
     "data": {
      "text/plain": [
       "0     6.287209\n",
       "1    15.702305\n",
       "2    11.535299\n",
       "3    16.446291\n",
       "4    11.017181\n",
       "5    19.724721\n",
       "6    14.446015\n",
       "7    39.581348\n",
       "8    47.673377\n",
       "dtype: float64"
      ]
     },
     "execution_count": 12,
     "metadata": {},
     "output_type": "execute_result"
    }
   ],
   "source": [
    "#transferindo incerteza de z para y\n",
    "print('incertezas em y (originais): ',df['inc-y(kgf/cm2)'])\n",
    "incytransf = np.sqrt(np.power(f_de_z[0]*sigma_z,2)+np.power(df['inc-y(kgf/cm2)'],2)) \n",
    "np.set_printoptions(precision=3)\n",
    "print('incertezas em y (novos val.):', incytransf)\n",
    "#incremento % da transferência da incerteza de z para y\n",
    "(incytransf/df['inc-y(kgf/cm2)']-1)*100"
   ]
  },
  {
   "cell_type": "markdown",
   "metadata": {},
   "source": [
    "É interessante visualizar novamente os pontos agora apenas com incertezas em y"
   ]
  },
  {
   "cell_type": "code",
   "execution_count": 13,
   "metadata": {},
   "outputs": [
    {
     "data": {
      "image/png": "[encoded data removed]",
      "text/plain": [
       "<Figure size 432x288 with 1 Axes>"
      ]
     },
     "metadata": {
      "needs_background": "light"
     },
     "output_type": "display_data"
    }
   ],
   "source": [
    "#plotando gráfico com as incertezas transferidas para a variável dependente (y), o 0 (zero) se refere a incertezas x\n",
    "plt.errorbar(z, yarray, incytransf,0,'or')\n",
    "plt.title(\"Dados linearizados, incertezas transferidas\")\n",
    "plt.xlabel(\"nome var z (z=1/V, cm$^{-3}$)\")\n",
    "plt.ylabel(\"nome var y (u.a.)\")\n",
    "plt.show()\n"
   ]
  },
  {
   "cell_type": "markdown",
   "metadata": {},
   "source": [
    "Para se obter as incertezas é necessário obter o inverso da **matriz de covariância** do ajuste e a partir dela, os termos da sua diagonal principal. Esses termos correspondem às variâncias dos parâmetros de forma que (veja o capítulo 12 da **referência 2**):\n",
    "$$\\sigma_{p_j}^2=a_{jj}$$\n",
    "onde os termos $a_{jj}$ correspondem a\n",
    "$$ \\mathcal{M}^{-1} = \\begin{pmatrix} a_{00} & a_{01} \\\\ a_{10} & a_{11} \\end{pmatrix}$$\n",
    "No _curve\\_fit_ do **scipy** a matriz obtida na célula seguinte ( _cov\\_pars_ ) é a própria $\\mathcal{M}^{-1}$"
   ]
  },
  {
   "cell_type": "code",
   "execution_count": 14,
   "metadata": {},
   "outputs": [
    {
     "name": "stdout",
     "output_type": "stream",
     "text": [
      "[12.447139259 -0.93695852 ]\n"
     ]
    },
    {
     "data": {
      "text/plain": [
       "array([[ 0.099913885, -0.009376618],\n",
       "       [-0.009376618,  0.000908015]])"
      ]
     },
     "execution_count": 14,
     "metadata": {},
     "output_type": "execute_result"
    }
   ],
   "source": [
    "np.set_printoptions(precision=9)\n",
    "fitpars, cov_pars = curve_fit(linear, z, yarray, sigma=incytransf)\n",
    "print(fitpars)\n",
    "cov_pars"
   ]
  },
  {
   "cell_type": "markdown",
   "metadata": {},
   "source": [
    "**ATENÇÃO:** note que os parâmetros do ajuste **mudaram** quando as incertezas foram utilizadas como _pesos_ no ajuste."
   ]
  },
  {
   "cell_type": "markdown",
   "metadata": {},
   "source": [
    "Portanto os coeficientes angular e linear, com respectivas incertezas são:"
   ]
  },
  {
   "cell_type": "code",
   "execution_count": 15,
   "metadata": {},
   "outputs": [
    {
     "name": "stdout",
     "output_type": "stream",
     "text": [
      "coef. angular= 12.45 +- 0.32\n",
      "coef. linear= -0.937 +- 0.03\n"
     ]
    }
   ],
   "source": [
    "p_0 = fitpars[0] #coef ang\n",
    "p_1 = fitpars[1] #coef lin\n",
    "s_p_0 = np.sqrt(cov_pars[0][0]) #incert p_0\n",
    "s_p_1 = np.sqrt(cov_pars[1][1]) #incert p_1\n",
    "rp_0 = np.round(p_0,2)\n",
    "rp_1 = np.round(p_1,3)\n",
    "rs_p_0 = np.round(s_p_0,2)\n",
    "rs_p_1 = np.round(s_p_1,3)\n",
    "print(\"coef. angular=\",rp_0,\"+-\",rs_p_0)\n",
    "print(\"coef. linear=\",rp_1,\"+-\",rs_p_1)"
   ]
  },
  {
   "cell_type": "markdown",
   "metadata": {},
   "source": [
    "## Graficando o ajuste aos pontos\n",
    "Agora colocamos a linha reta referente aos pontos da seguinte forma:"
   ]
  },
  {
   "cell_type": "code",
   "execution_count": 16,
   "metadata": {},
   "outputs": [
    {
     "data": {
      "text/plain": [
       "[<matplotlib.lines.Line2D at 0x12e8fb780>]"
      ]
     },
     "execution_count": 16,
     "metadata": {},
     "output_type": "execute_result"
    },
    {
     "data": {
      "image/png": "[encoded data removed]",
      "text/plain": [
       "<Figure size 432x288 with 1 Axes>"
      ]
     },
     "metadata": {
      "needs_background": "light"
     },
     "output_type": "display_data"
    }
   ],
   "source": [
    "xline = z\n",
    "yline = fitpars[1] + fitpars[0] * z\n",
    "plt.errorbar(z, yarray, incytransf,0,'or')\n",
    "plt.title(\"Dados linearizados, incertezas transferidas com linha de ajuste\")\n",
    "plt.xlabel(\"nome var z (z=x^2, u.a.)\")\n",
    "plt.ylabel(\"nome var y (u.a.)\")\n",
    "#incluindo a linha do ajuste linear, k=preto, '--' = linha tracejada\n",
    "plt.plot(xline, yline, 'k--')"
   ]
  },
  {
   "cell_type": "markdown",
   "metadata": {},
   "source": [
    "## Qualidade do ajuste\n",
    "Existem várias grandezas utilizadas como medida de qualidade do ajuste: $\\chi^2_{red}$ (qui-quadrado reduzido), $R^2$ e gráfico de resíduos.\n",
    "\n",
    "\n",
    "\n",
    " ### 1. Teste de $\\chi^2$ ou $\\chi^2_{red}$\n",
    " O teste de $\\chi^2$ baseia-se na expectativa de que o $\\chi^2_{red}$ seja muito próximo do valor 1 (um). Para uma explicação deste teste veja o capítulo 14 da **referência 2**.\n",
    " Alguns cuidados devem ser tomados na interpretação de $\\chi^2_{red}$. Em geral se os valores se afastam muito de 1 (ou $\\chi^2_{red}$>>1 ou $\\chi^2_{red}\\approx 0$ há problemas. O primeiro dos problemas é com o a estimação da incerteza dos dados experimentais. Quando a subestimação das incertezas o valor de $\\chi^2_{red}$ fica artificialmente maior que 1 e o contrário também é verdade, incertezas superestimadas levam a um reduzido valor de $\\chi^2_{red}$. O último caso é sempre o sintoma de superestimação de incertezas. No entanto, quando $\\chi^2_{red}$>>1 nem sempre o problema é de subestimação de incertezas, mas pode ser que a função ajustada (ou modelo) não é adequado para descrever os dados experimentais (por exemplo, usar uma reta em dados que seriam melhor descritos por um polinômio do segundo grau). Não existe uma única forma para se calcular o $\\chi^2_{red}$ com o **scipy**, mas podemos usar o **numpy** com os resultados do _curve\\_fit_ :\n"
   ]
  },
  {
   "cell_type": "code",
   "execution_count": 17,
   "metadata": {},
   "outputs": [
    {
     "data": {
      "text/plain": [
       "1.1175898026757987"
      ]
     },
     "execution_count": 17,
     "metadata": {},
     "output_type": "execute_result"
    }
   ],
   "source": [
    "#calulando chi^2_red\n",
    "yhat = np.polyval(fitpars, z)\n",
    "chi_squared = np.sum(((yhat - yarray)/incytransf) ** 2)\n",
    "chi2_red = chi_squared/(len(z)-2)\n",
    "chi2_red"
   ]
  },
  {
   "cell_type": "markdown",
   "metadata": {},
   "source": [
    "### 2. Valor de $R^2$\n",
    " O $R^2$ é simplesmente o quadrado do coeficiente de correlação. O coeficiente de correlação, geralmente denotado por $\\rho$ (também conhecido como [coeficiente de correlação de Pearson](https://pt.wikipedia.org/wiki/Coeficiente_de_correla%C3%A7%C3%A3o_de_Pearson)). Como o valor de $\\rho$ é limitado\n",
    " $$-1<\\rho<1$$\n",
    " o valor de $R^2$ quadrado também será limitado ($0<R^2<1$), interpretando-se a qualidade do ajuste como sendo tão melhor quanto mais próxima de 1. No entanto, esse é um equívoco, pois assim como $\\rho$, $R^2$ dá uma medida da intensidade da correlação entre os valores $x$ e $y$ dos pontos experimentais. Se o ajuste de reta proposto tiver um coeficiente angular com valor muito baixo comparado ao do coeficiente linear combinado com flutuações dos pontos moderadas (pouco mais de 1%) o valor de $R^2$ pode facilmente cair abaixo de 0.5, o que levaria à uma conclusão possivelmente errônea de má qualidade de ajuste (ou de modelo). Por outro lado, um conjunto de pontos levemente não linear (tipo $x^{3/2}$) pode ser ajustado por uma reta com $R^2$>0.9, indicando erroneamente que o ajuste é bom.\n",
    "**Portanto deve-se evitar $R^2$ como única medida de qualidade de ajuste.**\n",
    "\n",
    "O **numpy** não possui um método automático para cálculo de $R^2$, portanto como este valor não é tão importante para o tipo de análise que fazemos no lab, pode-se optar por não determinar esse valor, mas se houver interesse, uma possibilidade é fazer\n",
    "\n"
   ]
  },
  {
   "cell_type": "code",
   "execution_count": 18,
   "metadata": {},
   "outputs": [
    {
     "data": {
      "text/plain": [
       "0.997"
      ]
     },
     "execution_count": 18,
     "metadata": {},
     "output_type": "execute_result"
    }
   ],
   "source": [
    "st = np.sum((yarray - np.mean(yarray))**2)\n",
    "sr = np.sum((yarray - yhat)**2)\n",
    "r2 = (st - sr) / st\n",
    "np.round(r2,4)"
   ]
  },
  {
   "cell_type": "markdown",
   "metadata": {},
   "source": [
    "### 3. Gráfico de resíduos\n",
    "\n",
    "O gráfico de resíduos é sempre uma boa ferramenta e deve sempre que possível ser usada complementarmente a outras medidas de qualidade, principalmente quando se usa $R^2$, que jamais deve ser usado sozinho. \n",
    "Para se fazer um gráfico de ajuste faz-se um gráfico com o mesmo eixo $x$ dos dados originais, enquanto que no eixo vertical devem ser colocados os valores da diferença $(\\hat{y}-y)$, onde $\\hat{y}$ são os valores calculados para cada $x$ a partir dos parâmetros do ajuste.\n",
    "\n",
    "Um bom ajuste deverá mostrar um gráfico de resíduos com os pontos distribuídos de maneira aleatória acima e abaixo do eixo $x$. Na célula abaixo é apresentada a confecção de um gráfico de resíduos. Os dados usados neste exemplo _parecem_ razoáveis."
   ]
  },
  {
   "cell_type": "code",
   "execution_count": 19,
   "metadata": {},
   "outputs": [
    {
     "data": {
      "text/plain": [
       "<matplotlib.lines.Line2D at 0x12ea33860>"
      ]
     },
     "execution_count": 19,
     "metadata": {},
     "output_type": "execute_result"
    },
    {
     "data": {
      "image/png": "[encoded data removed]",
      "text/plain": [
       "<Figure size 432x288 with 1 Axes>"
      ]
     },
     "metadata": {
      "needs_background": "light"
     },
     "output_type": "display_data"
    }
   ],
   "source": [
    "resid = (yhat - yarray)\n",
    "plt.plot(z, resid, 'or')\n",
    "plt.title(\"Gráfico de resíduos\")\n",
    "plt.xlabel(\"1/V (cm$^-3$)\")\n",
    "plt.ylabel(\"residuos (kgf/cm$^2$)\")\n",
    "plt.axhline(y=0, color='k', linestyle='-')"
   ]
  },
  {
   "cell_type": "markdown",
   "metadata": {
    "variables": {
     "-rp_1": "0.937",
     "rs_p_1": "0.03"
    }
   },
   "source": [
    "## Propagando as incertezas obtidas no ajuste\n",
    "\n",
    "A teoria nos dá a informação que precisamos para extrair dos parâmetros do ajuste as informações sobre a física envolvida no experimento. Lembrando a equação de Clapeyron:\n",
    "$$PV = nRT$$\n",
    "temos que ter em mente que tanto $P$ quanto $T$ são em escala absoluta. $T$ é em kelvin e \n",
    "$$P=P_0+P_m$$\n",
    "onde $P_0$ e $P_m$ são respectivamente as pressões atmosférica e manométrica. Assim a equação de Clapeyron se reescreve\n",
    "$$(P_0+P_m)V = nRT \\Rightarrow P_0+P_m = \\frac{nRT}{V}$$ \n",
    "resultando numa equação de reta da dependência de $P_m$ em $1/V$\n",
    "$$P_m = nRT\\frac{1}{V} - P_0$$\n",
    "em comparando-se a um modelo linear (equação de reta) do tipo $y=ax+b$, temos que os parâmetros do ajuste correspondem a grandezas físicas, $a=nRT$ (coeficiente angular) e $b=-P_0$ (coef. linear). Portanto, podemos obter as incertezas das grandezas físicas de interesse a partir das incertezas nos parâmetros do ajuste. No caso da pressão atmosférica, $P_0$ a sua incerteza ($\\sigma_{P_0}$) é a própria incerteza do parâmetro correspondente ao coeficiente linear. Neste caso teríamos $P_0$= {{-rp_1}} $\\pm$ {{rs_p_1}} kgf/cm$^2$.\n",
    "\n",
    "No entanto se quisermos saber o número de mols de ar contido no cilindro $n$, teremos que fazer a propagação da incertezas a partir do ajuste. Neste caso o coeficiente angular é $a=nRT$, ou seja, $n$ pode ser obtido por\n",
    "$$n=\\frac{a}{RT}$$\n",
    "Assim é necessário considerar as incertezas de $a$ (do ajuste) e $T$ (da medida direta). $R$ é uma constante universal tabelada, portanto sem incerteza. A expressão de propagação neste caso então fica\n",
    "$$\\sigma_n^2 = \\left(\\frac{\\partial n}{\\partial a}\\sigma_a\\right)^2 + \\left(\\frac{\\partial n}{\\partial T}\\sigma_T\\right)^2$$\n",
    "\n",
    "No caso de $n$, como a expressão é linear em $a$ e em $T$ podemos usar a expressão simplificada:\n",
    "$$\\sigma_n = n\\sqrt{\\left(\\frac{\\sigma_a}{a}\\right)^2+\\left(\\frac{\\sigma_T}{T}\\right)^2}$$\n",
    "Assim,considerando que $T=(25\\pm1)^\\circ$C o valor de $n$ com sua respectiva incerteza será dado por:"
   ]
  },
  {
   "cell_type": "code",
   "execution_count": 20,
   "metadata": {},
   "outputs": [
    {
     "data": {
      "text/plain": [
       "0.0004926514619153663"
      ]
     },
     "execution_count": 20,
     "metadata": {},
     "output_type": "execute_result"
    }
   ],
   "source": [
    "#atencao aas unidades\n",
    "R=8.3144626 #J/(mol/K)\n",
    "T=25+273 #kelvin\n",
    "s_T = 1\n",
    "a_mod = p_0*(98066.5*1e-6) # [atm/(kgf/cm^2)]*[L/cm^3]\n",
    "s_a_mod = s_p_0*(98066.5*1e-6) #mudanca de unidades também para a incerteza\n",
    "n = a_mod/(R*T)\n",
    "s_n = n*np.sqrt(np.power((s_a_mod/a_mod),2)+np.power(s_T/T,2))\n",
    "n6 = np.round(n*1e4,2)\n",
    "sn6 = np.round(s_n*1e4,2)\n",
    "n"
   ]
  },
  {
   "cell_type": "markdown",
   "metadata": {},
   "source": [
    "## Referências\n",
    "\n",
    "1. Principios de Física - Volume 2,  Raymond A. Serway, John W. Jewett, Jr., Tradução da 5$^a$ Edição Norte-Americana, 2015 (ISBN-10:85-221-1637-7)\n",
    "2. Fundamentos da Teoria dos Erros, José Henrique Vuolo, 2$^a$ edição, Editora Edgar Blücher, 1996 (ISBN: 85-212-0056-0)"
   ]
  }
 ],
 "metadata": {
  "kernelspec": {
   "display_name": "Python 3",
   "language": "python",
   "name": "python3"
  },
  "language_info": {
   "codemirror_mode": {
    "name": "ipython",
    "version": 3
   },
   "file_extension": ".py",
   "mimetype": "text/x-python",
   "name": "python",
   "nbconvert_exporter": "python",
   "pygments_lexer": "ipython3",
   "version": "3.7.0"
  }
 },
 "nbformat": 4,
 "nbformat_minor": 4
}