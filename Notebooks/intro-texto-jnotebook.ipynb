{
 "cells": [
  {
   "cell_type": "markdown",
   "metadata": {},
   "source": [
    "# Como escrever no seu Jupyter Notebook\n",
    "\n",
    "Aqui vai um brevíssimo tutotial de como usar o Jupyter Notebook. A seguir estão apresentadas algumas instruções básicas. Em todos os casos, a cada célula criada é preciso digitar _\\<shift\\>+\\<enter\\>_ ao final da edição. Para editar uma célula pré-existente fazer um duplo clique na mesma."
   ]
  },
  {
   "cell_type": "markdown",
   "metadata": {},
   "source": [
    "## Para incluir texto\n",
    "\n",
    "Para incluir texto, crie uma nova célula e mude seu tipo para _Markdown_. Para fazer isso clique no menu _Cell->Cell type->Markdown_.\n",
    "\n",
    "Existe uma boa página de introdução/tutorial [aqui](https://gtribello.github.io/mathNET/assets/notebook-writing.html#Writing-maths), além de uma _cheat sheet_ de [**comandos Markdown**](https://guides.github.com/pdfs/markdown-cheatsheet-online.pdf)\n",
    "\n",
    "Alguns truques de formatação rápidos: pode ressaltar texto com **negrito** ou com *italico*, que também podem ser __assim__ ou _assado_. Pode-se também fazer uma lista de itens assim:\n",
    "* item 1\n",
    "* item 2\n",
    "\n",
    "ou uma lista numerada, assim:\n",
    "1. item a\n",
    "2. item b"
   ]
  },
  {
   "cell_type": "markdown",
   "metadata": {},
   "source": [
    "## Como fazer um sub-título para uma seção da página\n",
    "\n",
    "E depois pode ainda fazer mais uma subdivisão incluindo um sub-subtítulo. Isso depende do número de _hashtags_ (#) usadas\n",
    "\n",
    "### Esse é um subsubtítulo\n",
    "\n",
    "É importante não esquecer o espaço em branco entre o último _hashtag_ e a primeira letra do seu (sub)título, caso contrário a #coisa ##fica ###assim."
   ]
  },
  {
   "cell_type": "markdown",
   "metadata": {},
   "source": [
    "## Fórmulas matemáticas\n",
    "\n",
    "Aqui basta usar a sintaxe do $\\LaTeX$ (latex) colocando os comandos usando sinais de dollar ($) como delimitadores (um no início e outro no final). \n",
    "\n",
    "Se você não tiver familiaridade com o latex, recomenda-se esse [tutorial completo](http://sbi.iqsc.usp.br/files/Manual-SBI_LATEX_2013-.pdf), ou esse atalho [apenas com os comandos](http://tug.ctan.org/info/undergradmath/undergradmath.pdf).\n",
    "\n",
    "Você pode fazer um simples 1 + 1 = 2 ficar assim: $ 1 + 1 = 2 $\n",
    "\n",
    "Para centralizar equações use dois ($) no começo e dois no final\n",
    "\n",
    "$$ 3 \\neq 4 $$\n",
    "\n",
    "**Não esqueça de manter um espaço entre os delimitadores e os elementos da equação**."
   ]
  },
  {
   "cell_type": "markdown",
   "metadata": {},
   "source": [
    "## Execução do notebook\n",
    "\n",
    "Para executar o notebook, você deve fazer a execução das células na ordem crescente (de cima para baixo), pois em geral a célula atual precisa de informações que são geradas pela execução da célula anterior. Para executar a célula basta clicar nela (simples em células de código e duplo click nas de texto) e apertar \\<_shift+enter_\\> (simultaneamente).\n",
    "\n",
    "Alternativamente é possível rodar o notebook todo de uma vez, a partir do início ou de um determinado ponto, de modo automático, evitando o conflito de \"causalidade\". Há várias opções a partir do menu _Cell_. A opção _Run All_ por exemplo executará tudo desde o início."
   ]
  }
 ],
 "metadata": {
  "kernelspec": {
   "display_name": "Python 3",
   "language": "python",
   "name": "python3"
  },
  "language_info": {
   "codemirror_mode": {
    "name": "ipython",
    "version": 3
   },
   "file_extension": ".py",
   "mimetype": "text/x-python",
   "name": "python",
   "nbconvert_exporter": "python",
   "pygments_lexer": "ipython3",
   "version": "3.7.0"
  }
 },
 "nbformat": 4,
 "nbformat_minor": 2
}
